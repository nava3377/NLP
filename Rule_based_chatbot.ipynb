{
  "nbformat": 4,
  "nbformat_minor": 0,
  "metadata": {
    "colab": {
      "provenance": [],
      "authorship_tag": "ABX9TyOJ/2aamHGgggbMXfHSIhPd",
      "include_colab_link": true
    },
    "kernelspec": {
      "name": "python3",
      "display_name": "Python 3"
    },
    "language_info": {
      "name": "python"
    }
  },
  "cells": [
    {
      "cell_type": "markdown",
      "metadata": {
        "id": "view-in-github",
        "colab_type": "text"
      },
      "source": [
        "<a href=\"https://colab.research.google.com/github/nava3377/NLP/blob/main/Rule_based_chatbot.ipynb\" target=\"_parent\"><img src=\"https://colab.research.google.com/assets/colab-badge.svg\" alt=\"Open In Colab\"/></a>"
      ]
    },
    {
      "cell_type": "code",
      "execution_count": 4,
      "metadata": {
        "id": "OAD1zyF0vlTS"
      },
      "outputs": [],
      "source": [
        "import nltk\n",
        "import re\n",
        "from nltk.chat.util import Chat, reflections"
      ]
    },
    {
      "cell_type": "code",
      "source": [
        "nltk.download('punkt')\n",
        "nltk.download('averaged_perceptron_tagger')"
      ],
      "metadata": {
        "colab": {
          "base_uri": "https://localhost:8080/"
        },
        "id": "uHsHkdKsv6ct",
        "outputId": "e9d53002-6f09-4074-bd50-8a9de2075942"
      },
      "execution_count": 2,
      "outputs": [
        {
          "output_type": "stream",
          "name": "stderr",
          "text": [
            "[nltk_data] Downloading package punkt to /root/nltk_data...\n",
            "[nltk_data]   Unzipping tokenizers/punkt.zip.\n",
            "[nltk_data] Downloading package averaged_perceptron_tagger to\n",
            "[nltk_data]     /root/nltk_data...\n",
            "[nltk_data]   Unzipping taggers/averaged_perceptron_tagger.zip.\n"
          ]
        },
        {
          "output_type": "execute_result",
          "data": {
            "text/plain": [
              "True"
            ]
          },
          "metadata": {},
          "execution_count": 2
        }
      ]
    },
    {
      "cell_type": "code",
      "source": [
        "pairs = [\n",
        "    [r\"my name is (.*)\", [\"Hello %1, how can I assist you today?\",]],\n",
        "    [r\"hi|hey|hello\", [\"Hello, how can I help you?\", \"Hey there! What can I do for you?\",\n",
        "                       \"Hi! How can I assist you today?\"]],\n",
        "    [r\"what is your name?\", [\"I am a chatbot created to assist you. You can call me Chatbot.\",]],\n",
        "    [r\"how are you?\", [\"I'm a bot, so I don't have feelings, but I'm here to help you!\",]],\n",
        "    [r\"can you help me with (.*)\", [\"Sure, I can help you with %1. Please provide more details.\",]],\n",
        "    [r\"sorry (.*)\", [\"It's okay. How can I assist you?\",]],\n",
        "    [r\"thank you|thanks\", [\"You're welcome!\", \"No problem!\", \"Happy to help!\"]],\n",
        "    [r\"quit\", [\"Bye! Have a great day!\", \"Goodbye!\"]],\n",
        "    [r\"(.*)\", [\"I'm sorry, I don't understand that. Can you rephrase?\",\n",
        "               \"Could you please elaborate on that?\"]]\n",
        "]"
      ],
      "metadata": {
        "id": "zjx0QGsXwEY4"
      },
      "execution_count": 3,
      "outputs": []
    },
    {
      "cell_type": "code",
      "source": [
        "class RBChatBot:\n",
        "  def __init__(self,pairs):\n",
        "    self.chat=Chat(pairs,reflections)\n",
        "  def respond(self,user_input):\n",
        "    return self.chat.respond(user_input)\n",
        "chatbot=RBChatBot(pairs)"
      ],
      "metadata": {
        "id": "WbPeCt94wIgM"
      },
      "execution_count": 5,
      "outputs": []
    },
    {
      "cell_type": "code",
      "source": [
        "def Chat_with_bot():\n",
        "  print(\"Hi,I`m your chatbot,how can I help you?\")\n",
        "  while True:\n",
        "    user_input=input(\"you: \")\n",
        "    if user_input.lower()=='quit':\n",
        "      print(\"Chatbot:Bye! Have a great day!\")\n",
        "      break\n",
        "    response=chatbot.respond(user_input)\n",
        "    print(\"Chatbot:\",response)\n",
        "Chat_with_bot()"
      ],
      "metadata": {
        "colab": {
          "base_uri": "https://localhost:8080/"
        },
        "id": "B_h79oLr3kuk",
        "outputId": "166f149a-c6c6-463c-ebb6-bd82e33c77dc"
      },
      "execution_count": 6,
      "outputs": [
        {
          "output_type": "stream",
          "name": "stdout",
          "text": [
            "Hi,I`m your chatbot,how can I help you?\n",
            "you: hi\n",
            "Chatbot: Hi! How can I assist you today?\n",
            "you: sorry\n",
            "Chatbot: I'm sorry, I don't understand that. Can you rephrase?\n",
            "you: thanks\n",
            "Chatbot: You're welcome!\n",
            "you: why are you\n",
            "Chatbot: Could you please elaborate on that?\n",
            "you: how are you\n",
            "Chatbot: I'm a bot, so I don't have feelings, but I'm here to help you!\n",
            "you: who can you help\n",
            "Chatbot: Could you please elaborate on that?\n",
            "you: what is elabrate\n",
            "Chatbot: Could you please elaborate on that?\n",
            "you: whatis elaborate\n",
            "Chatbot: Could you please elaborate on that?\n",
            "you: quit\n",
            "Chatbot:Bye! Have a great day!\n"
          ]
        }
      ]
    },
    {
      "cell_type": "code",
      "source": [],
      "metadata": {
        "id": "7W18cNcB47qX"
      },
      "execution_count": null,
      "outputs": []
    }
  ]
}