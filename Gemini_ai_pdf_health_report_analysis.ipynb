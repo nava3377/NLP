{
  "nbformat": 4,
  "nbformat_minor": 0,
  "metadata": {
    "colab": {
      "provenance": [],
      "authorship_tag": "ABX9TyPHqsuzHn9VUdibmMCxL5Xm",
      "include_colab_link": true
    },
    "kernelspec": {
      "name": "python3",
      "display_name": "Python 3"
    },
    "language_info": {
      "name": "python"
    }
  },
  "cells": [
    {
      "cell_type": "markdown",
      "metadata": {
        "id": "view-in-github",
        "colab_type": "text"
      },
      "source": [
        "<a href=\"https://colab.research.google.com/github/nava3377/NLP/blob/main/Gemini_ai_pdf_health_report_analysis.ipynb\" target=\"_parent\"><img src=\"https://colab.research.google.com/assets/colab-badge.svg\" alt=\"Open In Colab\"/></a>"
      ]
    },
    {
      "cell_type": "code",
      "execution_count": 1,
      "metadata": {
        "id": "sfsUSIa99lw9"
      },
      "outputs": [],
      "source": [
        "import google.generativeai as genai\n",
        "from google.colab import userdata\n",
        "\n",
        "GOOGLE_API_KEY=userdata.get('GOOGLE_API_KEY')\n",
        "genai.configure(api_key=GOOGLE_API_KEY)"
      ]
    },
    {
      "cell_type": "code",
      "source": [
        "!pip install PyPDF2"
      ],
      "metadata": {
        "colab": {
          "base_uri": "https://localhost:8080/"
        },
        "id": "YjljPjs4-HOE",
        "outputId": "28dd8fbf-4488-4aa3-d971-3adf7251423d"
      },
      "execution_count": 2,
      "outputs": [
        {
          "output_type": "stream",
          "name": "stdout",
          "text": [
            "Collecting PyPDF2\n",
            "  Downloading pypdf2-3.0.1-py3-none-any.whl.metadata (6.8 kB)\n",
            "Downloading pypdf2-3.0.1-py3-none-any.whl (232 kB)\n",
            "\u001b[?25l   \u001b[90m━━━━━━━━━━━━━━━━━━━━━━━━━━━━━━━━━━━━━━━━\u001b[0m \u001b[32m0.0/232.6 kB\u001b[0m \u001b[31m?\u001b[0m eta \u001b[36m-:--:--\u001b[0m\r\u001b[2K   \u001b[90m━━━━━━━━━━━━━━━━━━━━━━━━━━━━━━━━━━━━━━━━\u001b[0m \u001b[32m232.6/232.6 kB\u001b[0m \u001b[31m7.8 MB/s\u001b[0m eta \u001b[36m0:00:00\u001b[0m\n",
            "\u001b[?25hInstalling collected packages: PyPDF2\n",
            "Successfully installed PyPDF2-3.0.1\n"
          ]
        }
      ]
    },
    {
      "cell_type": "code",
      "source": [
        "import PyPDF2\n",
        "\n",
        "def extract_text_from_pdf(pdf_path):\n",
        "    text = \"\"\n",
        "    with open(pdf_path, 'rb') as file:\n",
        "        reader = PyPDF2.PdfReader(file)\n",
        "        for page in reader.pages:\n",
        "            text += page.extract_text()+\"\\n\"\n",
        "    return text\n"
      ],
      "metadata": {
        "id": "HkDbNZaL-tiL"
      },
      "execution_count": 3,
      "outputs": []
    },
    {
      "cell_type": "code",
      "source": [
        "def extract_health_insights(text):\n",
        "  model=genai.GenerativeModel(\"gemini-1.5-flash\")\n",
        "  prompt=f\"Extract key insights from the following health report:\\n\\n{text}\"\n",
        "  response=model.generate_content(prompt)\n",
        "  return response.text\n",
        "pdf_file=\"/content/health_report.pdf\"\n",
        "extracted_text=extract_text_from_pdf(pdf_file)\n",
        "insights=extract_health_insights(extracted_text)\n",
        "print(\"Key insights:\\n\",insights)"
      ],
      "metadata": {
        "colab": {
          "base_uri": "https://localhost:8080/",
          "height": 644
        },
        "id": "y0TBenLxCFix",
        "outputId": "f215be07-5359-4c66-d692-53ebf15998a4"
      },
      "execution_count": 8,
      "outputs": [
        {
          "output_type": "stream",
          "name": "stdout",
          "text": [
            "Key insights:\n",
            " Mr. Kishan Goud's (MR2100003157) health report from February 1st, 2021, reveals the following key insights:\n",
            "\n",
            "**Infections:**\n",
            "\n",
            "* **Widal Test:** Elevated titers for *Salmonella Typhi* \"O\" (1:160) and \"H\" (1:80) suggest a possible past or present *Salmonella Typhi* infection (typhoid fever).  The reference range is 1:20, indicating a positive result.  *Salmonella Paratyphi* \"A\" and \"B\" titers were within the normal range.\n",
            "\n",
            "* **Dengue Serology:**  Negative results for Dengue NS1 antigen, IgG, and IgM antibodies rule out a current or recent dengue fever infection.\n",
            "\n",
            "* **Malaria:** Rapid Malaria tests for *Plasmodium vivax* and *Plasmodium falciparum* were both negative.\n",
            "\n",
            "\n",
            "**Hematology:**\n",
            "\n",
            "* **Complete Blood Picture (CBC):**  All blood counts (Hemoglobin, RBC, WBC, Platelets, PCV) are within normal ranges. Differential count shows normal percentages of neutrophils, lymphocytes, monocytes, eosinophils, and basophils.\n",
            "\n",
            "* **Erythrocyte Sedimentation Rate (ESR):** Elevated ESR (26 mm/hr in the first hour, 52 mm/hr in the second hour).  This indicates inflammation in the body, but the cause requires further investigation.\n",
            "\n",
            "**Blood Chemistry:**\n",
            "\n",
            "* **Liver Function Test (LFT):** All liver function tests (bilirubin, alkaline phosphatase, SGOT, SGPT, total protein, albumin, globulin, A/G ratio) are within normal ranges.\n",
            "\n",
            "* **Kidney Function Test:** Serum creatinine (0.8 mg/dl) is within the normal range (0.6 - 1.25 mg/dl), indicating normal kidney function.\n",
            "\n",
            "* **Electrolytes:** Serum sodium (122 mmol/l) is slightly low (reference range 135-146 mmol/l). Potassium and chloride levels are within normal ranges.\n",
            "\n",
            "* **Glucose:** Random blood glucose level was not provided in the report.\n",
            "\n",
            "* **HbA1c:** HbA1c level (5.4%) is within the normal non-diabetic range (4-6%), indicating good blood sugar control.\n",
            "\n",
            "\n",
            "**Overall:**\n",
            "\n",
            "While the elevated Widal test results suggest a possible *Salmonella Typhi* infection, the negative dengue and malaria tests and generally normal blood tests make this diagnosis uncertain. The elevated ESR warrants further investigation to identify the source of inflammation. The slightly low serum sodium level also needs to be addressed.  More information and clinical context are needed for a complete interpretation of the results.  This report should be discussed with the attending physician Dr. Krishna Prasad.\n",
            "\n"
          ]
        }
      ]
    },
    {
      "cell_type": "code",
      "source": [
        "def summarize_helath_report(text):\n",
        "  model=genai.GenerativeModel(\"gemini-1.5-flash\")\n",
        "  prompt=f\"Summarize the following health report in a concise manner:\\n\\n{text}\"\n",
        "  response=model.generate_content(prompt)\n",
        "  return response.text\n",
        "\n",
        "summary=summarize_helath_report(extracted_text)\n",
        "print(\"Summary:\\n\",summary)"
      ],
      "metadata": {
        "colab": {
          "base_uri": "https://localhost:8080/",
          "height": 89
        },
        "id": "FT_4qJbFCVrW",
        "outputId": "8a1e5380-78a5-44a5-c17e-00db4da1e70f"
      },
      "execution_count": 9,
      "outputs": [
        {
          "output_type": "stream",
          "name": "stdout",
          "text": [
            "Summary:\n",
            " Mr. Kishan Goud's (MR2100003157) blood tests on 01/02/2021 showed:  Elevated ESR (26/52 mm/hr),  Widal test positive for *S. Typhi* O (1:160) and H (1:80) but within normal range for *S. Paratyphi* AH and BH.  Negative results for dengue NS1 antigen, IgG, and IgM, and malaria.  Blood counts were within normal limits except for slightly low platelets (2.0 lakhs/cumm).  HbA1c was 5.4% (normal). Creatinine was 0.8 mg/dl (within normal range). Liver function tests and electrolytes were mostly within normal ranges, although serum sodium was slightly low (122 mmol/l).  A random blood glucose was not provided with a value.\n",
            "\n"
          ]
        }
      ]
    },
    {
      "cell_type": "code",
      "source": [
        "def detect_abnormalities(text):\n",
        "  model=genai.GenerativeModel(\"gemini-1.5-flash\")\n",
        "  prompt=f\"Analyze the lab text result in the following hea,th report and highlight any abnomal values:\\n\\n({text}\"\n",
        "  response=model.generate_content(prompt)\n",
        "  return response.text\n",
        "\n",
        "abnormalities=detect_abnormalities(extracted_text)\n",
        "print(\"Abnormalities:\\n\",abnormalities)"
      ],
      "metadata": {
        "colab": {
          "base_uri": "https://localhost:8080/",
          "height": 315
        },
        "id": "5AQlu-l_FGzz",
        "outputId": "0520eea8-da31-4511-84bb-f85635788e50"
      },
      "execution_count": 10,
      "outputs": [
        {
          "output_type": "stream",
          "name": "stdout",
          "text": [
            "Abnormalities:\n",
            " Based on the provided lab results, the following values fall outside the reference ranges and are considered abnormal:\n",
            "\n",
            "* **ESR 1st Hour:** 26 mm/hr  (Reference range: 0-8 mm/hr).  This significantly elevated ESR suggests inflammation in the body.\n",
            "\n",
            "* **ESR 2nd Hour:** 52 mm/hr (No reference range provided, but given the first hour's result, this is also highly abnormal and indicative of inflammation).\n",
            "\n",
            "* **Platelet Count:** 2.0 lakhs/cumm (Reference range: 1.5 - 4.5 lakhs/cumm). While within the range, it's at the lower end, which could be a cause for concern depending on the clinical picture and may warrant further investigation.  A lower platelet count can increase bleeding risk.\n",
            "\n",
            "* **Serum Sodium:** 122 mmol/l (Reference range: 135 - 146 mmol/l). This is a significantly low sodium level (hyponatremia), indicating a potential electrolyte imbalance.  This requires medical attention.\n",
            "\n",
            "* **Serum Chloride:** 97 mmol/l (Reference range: 98 - 107 mmol/l). This is slightly low, although closer to the lower limit of normal than the sodium result. It should be considered in conjunction with the hyponatremia.\n",
            "\n",
            "\n",
            "**The other results are within the reference ranges or are negative for the tested conditions.**  However, the abnormal values highlighted above, particularly the ESR and serum sodium, indicate a need for further investigation and medical intervention.  The low platelet count warrants monitoring.  The slightly low chloride level should be considered alongside the hyponatremia.\n",
            "\n"
          ]
        }
      ]
    },
    {
      "cell_type": "code",
      "source": [
        "def explain_medical_terms(text):\n",
        "  model=genai.GenerativeModel(\"gemini-1.5-flash\")\n",
        "  prompt=f\"Explain the medical terms in the following health report in simple language:\\n\\n({text}\"\n",
        "  response=model.generate_content(prompt)\n",
        "  return response.text\n",
        "explaination=explain_medical_terms(extracted_text)\n",
        "print(\"Simplified Explanation:\\n\",explaination)"
      ],
      "metadata": {
        "colab": {
          "base_uri": "https://localhost:8080/",
          "height": 887
        },
        "id": "LlalO7QIG74P",
        "outputId": "3744403b-c500-434b-d624-2f58b6745a8b"
      },
      "execution_count": 12,
      "outputs": [
        {
          "output_type": "stream",
          "name": "stdout",
          "text": [
            "Simplified Explanation:\n",
            " This report shows the results of several blood tests performed on Mr. Kishan Goud. Let's break down each section:\n",
            "\n",
            "**1. WIDAL Test:** This test checks for antibodies against *Salmonella Typhi* and *Salmonella Paratyphi*, bacteria that cause typhoid fever and paratyphoid fever.  The results are expressed as dilutions.  A higher number indicates a stronger immune response (meaning the body is fighting the infection).  In this case:\n",
            "\n",
            "* **S. Typhi \"O\" 1:160:**  A significantly elevated antibody level suggesting a possible past or current typhoid infection.\n",
            "* **S. Typhi \"H\" 1:80:**  Also elevated, further supporting possible typhoid infection.\n",
            "* **S. Paratyphi \"A\" 1:20:** Within the normal range, suggesting no current or recent paratyphoid A infection.\n",
            "* **S. Paratyphi \"B\" 1:20:** Within the normal range, suggesting no current or recent paratyphoid B infection.\n",
            "\n",
            "**2. Dengue Serology:** This tests for dengue fever, a mosquito-borne viral infection.  All three tests (NS1 antigen, IgG, and IgM) are negative, meaning no evidence of current or recent dengue infection.\n",
            "\n",
            "**3. Erythrocyte Sedimentation Rate (ESR):** This measures how quickly red blood cells settle in a test tube.  A high ESR often indicates inflammation in the body. Mr. Goud's ESR is elevated (26 mm/hr in the first hour, 52 mm/hr in the second), suggesting the presence of inflammation.\n",
            "\n",
            "**4. Rapid Malaria Test:** This test screens for malaria parasites in the blood. Both *Plasmodium vivax* (P.V.) and *Plasmodium falciparum* (P.F.) are negative, indicating no malaria infection.\n",
            "\n",
            "**5. Complete Blood Picture (CBC):** This provides a detailed analysis of the blood cells:\n",
            "\n",
            "* **Hemoglobin (Hb):** 13.6 g/dL (within the normal range), measures the oxygen-carrying capacity of the blood.\n",
            "* **Red Blood Cells (RBC):** 4.3 million/cumm (slightly below the normal range but not significantly low).\n",
            "* **White Blood Cells (WBC):** 7,200 cells/cumm (within the normal range), part of the immune system.\n",
            "* **Platelet Count:** 2.0 lakhs/cumm (within the normal range), important for blood clotting.\n",
            "* **Packed Cell Volume (PCV):** 40.5% (within the normal range), the percentage of red blood cells in the blood.\n",
            "* **Differential Count:** This breaks down the types of white blood cells. All are within or near the normal ranges.\n",
            "* **Peripheral Blood Smear:**  A microscopic examination of the blood; the report indicates that the red and white blood cells and platelets appear normal.\n",
            "\n",
            "**6. HbA1c:** This test measures average blood sugar levels over the past 2-3 months. Mr. Goud's level is 5.4%, which falls within the normal range for non-diabetics, indicating good blood sugar control.\n",
            "\n",
            "**7. Serum Creatinine:** This measures kidney function. Mr. Goud's level is 0.8 mg/dL (within the normal range), indicating normal kidney function.\n",
            "\n",
            "**8. Random Blood Glucose:** This measures blood sugar level at a random time. Mr. Goud's level is within the normal range.  The specific value is missing from the report.\n",
            "\n",
            "**9. Liver Function Test (LFT):**  These tests assess liver health:\n",
            "\n",
            "* **Total Bilirubin, Direct Bilirubin, Indirect Bilirubin:** All within normal ranges, indicating normal liver function related to bilirubin processing.\n",
            "* **Alkaline Phosphatase:** Slightly below the normal upper limit,  generally indicating normal liver function.\n",
            "* **SGOT (AST) and SGPT (ALT):**  Both are within normal limits, further indicating normal liver function.\n",
            "* **Total Protein and Albumin:** Within normal ranges.\n",
            "* **Globulin:**  A component of total protein; the result is provided, but the reference range is missing.\n",
            "* **A/G Ratio (Albumin/Globulin Ratio):**  This is within the normal range.\n",
            "\n",
            "**10. Serum Electrolytes:** These measure the levels of important minerals in the blood:\n",
            "\n",
            "* **Sodium:** Slightly below the normal range, it would be wise to consult a doctor for further investigation.\n",
            "* **Potassium:** Within the normal range.\n",
            "* **Chloride:** Slightly below the normal range, it would be wise to consult a doctor for further investigation.\n",
            "\n",
            "**In summary:** The report shows some elevated inflammatory markers (ESR) and slightly elevated typhoid antibodies.  The slightly low sodium and chloride levels should also be investigated.  Otherwise, most of the other test results are within normal ranges, indicating generally good health.  **It is crucial that Mr. Kishan Goud discuss these results with his doctor, Dr. Krishna Prasad, for proper interpretation and further medical advice.**  The slightly low values need attention, and the possible typhoid infection needs to be investigated further.\n",
            "\n"
          ]
        }
      ]
    },
    {
      "cell_type": "code",
      "source": [
        "def ask_gemini_about_report(text,question):\n",
        "  model=genai.GenerativeModel(\"gemini-1.5-flash\")\n",
        "  prompt=f\"The follwoing is a health report:\\n\\n{text}\\n\\nAnswer the follwing question based on the report:\\n\\n{question}\"\n",
        "  response=model.generate_content(prompt)\n",
        "  return response.text\n",
        "question=\"What is the patient's age?\"\n",
        "answer=ask_gemini_about_report(extracted_text,question)\n",
        "print(\"Answer:\\n\",answer)"
      ],
      "metadata": {
        "colab": {
          "base_uri": "https://localhost:8080/",
          "height": 69
        },
        "id": "gAOpAzJpIeyK",
        "outputId": "e4c81f60-a721-4b32-ac40-893c145f4f8d"
      },
      "execution_count": 13,
      "outputs": [
        {
          "output_type": "stream",
          "name": "stdout",
          "text": [
            "Answer:\n",
            " The patient's age is 56 years, 1 month, and 3 days.\n",
            "\n"
          ]
        }
      ]
    },
    {
      "cell_type": "code",
      "source": [],
      "metadata": {
        "id": "sTVP1ut0KHea"
      },
      "execution_count": null,
      "outputs": []
    }
  ]
}