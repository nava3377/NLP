{
  "nbformat": 4,
  "nbformat_minor": 0,
  "metadata": {
    "colab": {
      "provenance": [],
      "authorship_tag": "ABX9TyOyv+8Q2wY9gbPIqnoLuZKf",
      "include_colab_link": true
    },
    "kernelspec": {
      "name": "python3",
      "display_name": "Python 3"
    },
    "language_info": {
      "name": "python"
    }
  },
  "cells": [
    {
      "cell_type": "markdown",
      "metadata": {
        "id": "view-in-github",
        "colab_type": "text"
      },
      "source": [
        "<a href=\"https://colab.research.google.com/github/nava3377/NLP/blob/main/chatbot.ipynb\" target=\"_parent\"><img src=\"https://colab.research.google.com/assets/colab-badge.svg\" alt=\"Open In Colab\"/></a>"
      ]
    },
    {
      "cell_type": "code",
      "execution_count": 8,
      "metadata": {
        "id": "8dSlOcnmk7xY"
      },
      "outputs": [],
      "source": [
        "import os\n",
        "import atexit\n",
        "import shutil\n",
        "from transformers import BlenderbotTokenizer, BlenderbotForConditionalGeneration\n",
        "model_name=\"facebook/blenderbot-1B-distill\"\n",
        "# Fixed the typo: tokeizer to tokenizer\n",
        "tokenizer=BlenderbotTokenizer.from_pretrained(model_name)\n",
        "model=BlenderbotForConditionalGeneration.from_pretrained(model_name)\n",
        "def interact_with_chatbot(user_input,conversation_history):\n",
        "    conversation_history.append(f\"user{user_input}\")\n",
        "    conversation_text=\" \".join(conversation_history[-5:])\n",
        "    imputs=tokenizer(conversation_text,return_tensors=\"pt\",truncation=True)\n",
        "\n",
        "    response_ids=model.generate(**imputs,max_length=1000,pad_token_id=tokenizer.eos_token_id)\n",
        "    response_text=tokenizer.decode(response_ids[0],skip_special_tokens=True)\n",
        "    conversation_history.append(f\"chatbot:{response_text}\")\n",
        "    return response_text"
      ]
    },
    {
      "cell_type": "code",
      "source": [
        "def delete_model_files():\n",
        "  cache_dir=os.path.expanduser(\"~/.cache/huggingface/hub/models--facebook--blenderbot-1B-distill\")\n",
        "\n",
        "  if os.path.exists(cache_dir):\n",
        "    user_input=input(\"Do you want to delete the model files? (yes/no):\")\n",
        "    if user_input.lower()==\"yes\":\n",
        "      shutil.rmtree(cache_dir)\n",
        "      print(f\"Delete model files from cache directoruy:{cache_dir}\")\n",
        "    else:\n",
        "      print(f\"Model file not deleted from cache directory.\")\n",
        "  else:\n",
        "    print(f\"Model files ot foung in cache directory:{cache_dir}\")\n",
        "\n",
        "atexit.register(delete_model_files)\n",
        "print(\"welcome to the India Tourism chatbot!\")\n",
        "print(\"Type'quit' to end the converstation.\\n\")\n",
        "conversation_history=[]\n",
        "while True:\n",
        "  user_input=input(\"user:\")\n",
        "  if user_input.lower()==\"quit\":\n",
        "    print(\"Thank you for using the india tourism chatbot,goodbye!\")\n",
        "    break\n",
        "  response_text=interact_with_chatbot(user_input,conversation_history)\n",
        "  print(\"chatbot:\",response_text)"
      ],
      "metadata": {
        "id": "3t7v7hb9mKLX",
        "colab": {
          "base_uri": "https://localhost:8080/"
        },
        "outputId": "b79ddce5-763e-4427-b1c8-5ff81f18cfe0"
      },
      "execution_count": null,
      "outputs": [
        {
          "output_type": "stream",
          "name": "stdout",
          "text": [
            "welcome to the India Tourism chatbot!\n",
            "Type'quit' to end the converstation.\n",
            "\n"
          ]
        }
      ]
    },
    {
      "cell_type": "code",
      "source": [],
      "metadata": {
        "id": "FDWeGMa6p-U1"
      },
      "execution_count": null,
      "outputs": []
    }
  ]
}